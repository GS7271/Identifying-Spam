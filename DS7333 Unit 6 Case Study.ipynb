{
 "cells": [
  {
   "cell_type": "markdown",
   "metadata": {},
   "source": [
    "__Using Statistics to Identify Spam__\n",
    "\n",
    "*Oscar Padilla*"
   ]
  },
  {
   "cell_type": "markdown",
   "metadata": {},
   "source": [
    "# Introduction\n",
    "The R code below was mainly developed in [Chapter 3] (http://rdatasciencecases.org/Spam/code.R) of the book by Deborah Nolan and Duncan Temple Lang called “Data Science in R: A Case Studies Approach to Computational Reasoning and Problem Solving” [1]. \n",
    "This original code was modified, as needed, in order to solve question (19) in the Exercises section."
   ]
  },
  {
   "cell_type": "markdown",
   "metadata": {},
   "source": [
    "# Background\n",
    "\n",
    "In this case study, authors [1] examine over 9000 messages that have been classified by SpamAssassin (http://spamassassin.apache.org) for the purpose of developing and testing spam filters using naive Bayes and decision trees."
   ]
  },
  {
   "cell_type": "markdown",
   "metadata": {},
   "source": [
    "__Question 19)__  Consider the other parameters that can be used to control the recursive partitioning process. Read the documentation for them in the rpart.control() documentation. Also, carry out an Internet search for more information on how to tweak the rpart() tuning parameters. Experiment with values for these parameters. Do the trees that result make sense with your understanding of how the parameters are used? Can you improve the prediction using them?"
   ]
  },
  {
   "cell_type": "markdown",
   "metadata": {},
   "source": [
    "# Methods\n",
    "\n",
    "In this section, the data frame `emailDFrp` developed in Section 3.11 (Fitting the rpart() Model to the email Data - by Nolan & Lang) is loaded in order to start experimenting with `rpart`. \n",
    "\n",
    "The decision tree developed in the same section is replicated (i.e. Base Model) and will be compared against an Optimized Model developed in later sections.\n",
    "\n",
    "\n",
    "## Importing Data Frame from Chapter 3"
   ]
  },
  {
   "cell_type": "code",
   "execution_count": 24,
   "metadata": {},
   "outputs": [],
   "source": [
    "load('Data/emailDFrp')"
   ]
  },
  {
   "cell_type": "code",
   "execution_count": 25,
   "metadata": {},
   "outputs": [
    {
     "data": {
      "text/html": [
       "<table>\n",
       "<thead><tr><th></th><th scope=col>isSpam</th><th scope=col>isRe</th><th scope=col>underscore</th><th scope=col>priority</th><th scope=col>isInReplyTo</th><th scope=col>sortedRec</th><th scope=col>subPunc</th><th scope=col>multipartText</th><th scope=col>hasImages</th><th scope=col>isPGPsigned</th><th scope=col>⋯</th><th scope=col>subQuesCt</th><th scope=col>numAtt</th><th scope=col>numRec</th><th scope=col>perCaps</th><th scope=col>hour</th><th scope=col>perHTML</th><th scope=col>subBlanks</th><th scope=col>forwards</th><th scope=col>avgWordLen</th><th scope=col>numDlr</th></tr></thead>\n",
       "<tbody>\n",
       "\t<tr><th scope=row>./Data/easy_ham1</th><td>Valid    </td><td>T        </td><td>F        </td><td>F        </td><td>T        </td><td>T        </td><td>F        </td><td>F        </td><td>F        </td><td>F        </td><td>⋯        </td><td>0        </td><td>0        </td><td>2        </td><td>4.451039 </td><td>11       </td><td>0        </td><td>12.50000 </td><td> 0.000000</td><td>4.376623 </td><td>3        </td></tr>\n",
       "\t<tr><th scope=row>./Data/easy_ham2</th><td>Valid    </td><td>F        </td><td>F        </td><td>F        </td><td>F        </td><td>T        </td><td>F        </td><td>F        </td><td>F        </td><td>F        </td><td>⋯        </td><td>0        </td><td>0        </td><td>1        </td><td>7.491289 </td><td>11       </td><td>0        </td><td> 8.00000 </td><td> 0.000000</td><td>4.555556 </td><td>0        </td></tr>\n",
       "\t<tr><th scope=row>./Data/easy_ham3</th><td>Valid    </td><td>F        </td><td>F        </td><td>F        </td><td>F        </td><td>T        </td><td>F        </td><td>F        </td><td>F        </td><td>F        </td><td>⋯        </td><td>0        </td><td>0        </td><td>1        </td><td>7.436096 </td><td>12       </td><td>0        </td><td> 8.00000 </td><td> 0.000000</td><td>4.817164 </td><td>0        </td></tr>\n",
       "\t<tr><th scope=row>./Data/easy_ham4</th><td>Valid    </td><td>F        </td><td>F        </td><td>F        </td><td>F        </td><td>T        </td><td>F        </td><td>F        </td><td>F        </td><td>F        </td><td>⋯        </td><td>0        </td><td>0        </td><td>0        </td><td>5.090909 </td><td>13       </td><td>0        </td><td>18.91892 </td><td> 3.125000</td><td>4.714286 </td><td>0        </td></tr>\n",
       "\t<tr><th scope=row>./Data/easy_ham5</th><td>Valid    </td><td>T        </td><td>F        </td><td>F        </td><td>F        </td><td>T        </td><td>F        </td><td>F        </td><td>F        </td><td>F        </td><td>⋯        </td><td>0        </td><td>0        </td><td>1        </td><td>6.116643 </td><td>13       </td><td>0        </td><td>15.21739 </td><td> 6.451613</td><td>4.234940 </td><td>0        </td></tr>\n",
       "\t<tr><th scope=row>./Data/easy_ham6</th><td>Valid    </td><td>T        </td><td>F        </td><td>F        </td><td>T        </td><td>T        </td><td>F        </td><td>F        </td><td>F        </td><td>F        </td><td>⋯        </td><td>0        </td><td>0        </td><td>1        </td><td>7.625272 </td><td>13       </td><td>0        </td><td>15.21739 </td><td>12.000000</td><td>3.956897 </td><td>0        </td></tr>\n",
       "</tbody>\n",
       "</table>\n"
      ],
      "text/latex": [
       "\\begin{tabular}{r|llllllllllllllllllllllllllllll}\n",
       "  & isSpam & isRe & underscore & priority & isInReplyTo & sortedRec & subPunc & multipartText & hasImages & isPGPsigned & ⋯ & subQuesCt & numAtt & numRec & perCaps & hour & perHTML & subBlanks & forwards & avgWordLen & numDlr\\\\\n",
       "\\hline\n",
       "\t./Data/easy\\_ham1 & Valid     & T         & F         & F         & T         & T         & F         & F         & F         & F         & ⋯         & 0         & 0         & 2         & 4.451039  & 11        & 0         & 12.50000  &  0.000000 & 4.376623  & 3        \\\\\n",
       "\t./Data/easy\\_ham2 & Valid     & F         & F         & F         & F         & T         & F         & F         & F         & F         & ⋯         & 0         & 0         & 1         & 7.491289  & 11        & 0         &  8.00000  &  0.000000 & 4.555556  & 0        \\\\\n",
       "\t./Data/easy\\_ham3 & Valid     & F         & F         & F         & F         & T         & F         & F         & F         & F         & ⋯         & 0         & 0         & 1         & 7.436096  & 12        & 0         &  8.00000  &  0.000000 & 4.817164  & 0        \\\\\n",
       "\t./Data/easy\\_ham4 & Valid     & F         & F         & F         & F         & T         & F         & F         & F         & F         & ⋯         & 0         & 0         & 0         & 5.090909  & 13        & 0         & 18.91892  &  3.125000 & 4.714286  & 0        \\\\\n",
       "\t./Data/easy\\_ham5 & Valid     & T         & F         & F         & F         & T         & F         & F         & F         & F         & ⋯         & 0         & 0         & 1         & 6.116643  & 13        & 0         & 15.21739  &  6.451613 & 4.234940  & 0        \\\\\n",
       "\t./Data/easy\\_ham6 & Valid     & T         & F         & F         & T         & T         & F         & F         & F         & F         & ⋯         & 0         & 0         & 1         & 7.625272  & 13        & 0         & 15.21739  & 12.000000 & 3.956897  & 0        \\\\\n",
       "\\end{tabular}\n"
      ],
      "text/markdown": [
       "\n",
       "| <!--/--> | isSpam | isRe | underscore | priority | isInReplyTo | sortedRec | subPunc | multipartText | hasImages | isPGPsigned | ⋯ | subQuesCt | numAtt | numRec | perCaps | hour | perHTML | subBlanks | forwards | avgWordLen | numDlr |\n",
       "|---|---|---|---|---|---|---|---|---|---|---|---|---|---|---|---|---|---|---|---|---|---|\n",
       "| ./Data/easy_ham1 | Valid     | T         | F         | F         | T         | T         | F         | F         | F         | F         | ⋯         | 0         | 0         | 2         | 4.451039  | 11        | 0         | 12.50000  |  0.000000 | 4.376623  | 3         |\n",
       "| ./Data/easy_ham2 | Valid     | F         | F         | F         | F         | T         | F         | F         | F         | F         | ⋯         | 0         | 0         | 1         | 7.491289  | 11        | 0         |  8.00000  |  0.000000 | 4.555556  | 0         |\n",
       "| ./Data/easy_ham3 | Valid     | F         | F         | F         | F         | T         | F         | F         | F         | F         | ⋯         | 0         | 0         | 1         | 7.436096  | 12        | 0         |  8.00000  |  0.000000 | 4.817164  | 0         |\n",
       "| ./Data/easy_ham4 | Valid     | F         | F         | F         | F         | T         | F         | F         | F         | F         | ⋯         | 0         | 0         | 0         | 5.090909  | 13        | 0         | 18.91892  |  3.125000 | 4.714286  | 0         |\n",
       "| ./Data/easy_ham5 | Valid     | T         | F         | F         | F         | T         | F         | F         | F         | F         | ⋯         | 0         | 0         | 1         | 6.116643  | 13        | 0         | 15.21739  |  6.451613 | 4.234940  | 0         |\n",
       "| ./Data/easy_ham6 | Valid     | T         | F         | F         | T         | T         | F         | F         | F         | F         | ⋯         | 0         | 0         | 1         | 7.625272  | 13        | 0         | 15.21739  | 12.000000 | 3.956897  | 0         |\n",
       "\n"
      ],
      "text/plain": [
       "                 isSpam isRe underscore priority isInReplyTo sortedRec subPunc\n",
       "./Data/easy_ham1 Valid  T    F          F        T           T         F      \n",
       "./Data/easy_ham2 Valid  F    F          F        F           T         F      \n",
       "./Data/easy_ham3 Valid  F    F          F        F           T         F      \n",
       "./Data/easy_ham4 Valid  F    F          F        F           T         F      \n",
       "./Data/easy_ham5 Valid  T    F          F        F           T         F      \n",
       "./Data/easy_ham6 Valid  T    F          F        T           T         F      \n",
       "                 multipartText hasImages isPGPsigned ⋯ subQuesCt numAtt numRec\n",
       "./Data/easy_ham1 F             F         F           ⋯ 0         0      2     \n",
       "./Data/easy_ham2 F             F         F           ⋯ 0         0      1     \n",
       "./Data/easy_ham3 F             F         F           ⋯ 0         0      1     \n",
       "./Data/easy_ham4 F             F         F           ⋯ 0         0      0     \n",
       "./Data/easy_ham5 F             F         F           ⋯ 0         0      1     \n",
       "./Data/easy_ham6 F             F         F           ⋯ 0         0      1     \n",
       "                 perCaps  hour perHTML subBlanks forwards  avgWordLen numDlr\n",
       "./Data/easy_ham1 4.451039 11   0       12.50000   0.000000 4.376623   3     \n",
       "./Data/easy_ham2 7.491289 11   0        8.00000   0.000000 4.555556   0     \n",
       "./Data/easy_ham3 7.436096 12   0        8.00000   0.000000 4.817164   0     \n",
       "./Data/easy_ham4 5.090909 13   0       18.91892   3.125000 4.714286   0     \n",
       "./Data/easy_ham5 6.116643 13   0       15.21739   6.451613 4.234940   0     \n",
       "./Data/easy_ham6 7.625272 13   0       15.21739  12.000000 3.956897   0     "
      ]
     },
     "metadata": {},
     "output_type": "display_data"
    }
   ],
   "source": [
    "head(emailDFrp)"
   ]
  },
  {
   "cell_type": "code",
   "execution_count": 26,
   "metadata": {},
   "outputs": [
    {
     "data": {
      "text/html": [
       "<ol class=list-inline>\n",
       "\t<li>9348</li>\n",
       "\t<li>30</li>\n",
       "</ol>\n"
      ],
      "text/latex": [
       "\\begin{enumerate*}\n",
       "\\item 9348\n",
       "\\item 30\n",
       "\\end{enumerate*}\n"
      ],
      "text/markdown": [
       "1. 9348\n",
       "2. 30\n",
       "\n",
       "\n"
      ],
      "text/plain": [
       "[1] 9348   30"
      ]
     },
     "metadata": {},
     "output_type": "display_data"
    }
   ],
   "source": [
    "dim(emailDFrp)"
   ]
  },
  {
   "cell_type": "markdown",
   "metadata": {},
   "source": [
    "<img src = Table_3_1.png>"
   ]
  },
  {
   "cell_type": "markdown",
   "metadata": {},
   "source": [
    "__Table 1.__ This table provides several possible variables that can be derived from an email message and used for classifying spam [1]\n",
    "\n",
    "In Chapter 3, 29 logical and numeric variables were developed plus the response variable *Y = isSpam = Valid or Spam*."
   ]
  },
  {
   "cell_type": "code",
   "execution_count": 27,
   "metadata": {},
   "outputs": [],
   "source": [
    "library(rpart)"
   ]
  },
  {
   "cell_type": "markdown",
   "metadata": {},
   "source": [
    "## Training and Test Sets Split"
   ]
  },
  {
   "cell_type": "markdown",
   "metadata": {},
   "source": [
    "As in Section 3.11, indices are generated for the test set as follows:"
   ]
  },
  {
   "cell_type": "code",
   "execution_count": 28,
   "metadata": {},
   "outputs": [],
   "source": [
    "set.seed(418910)\n",
    "\n",
    "spam <- emailDFrp$isSpam == \"Spam\"\n",
    "numSpam <- sum(spam)\n",
    "numHam <- sum(!spam)\n",
    "\n",
    "testSpamIdx <- sample(numSpam, size = floor(numSpam/3))\n",
    "testHamIdx <- sample(numHam, size = floor(numHam/3))"
   ]
  },
  {
   "cell_type": "code",
   "execution_count": 29,
   "metadata": {},
   "outputs": [],
   "source": [
    "testDF <- \n",
    "  rbind( emailDFrp[emailDFrp$isSpam == \"Spam\", ][testSpamIdx, ],\n",
    "         emailDFrp[emailDFrp$isSpam == \"Valid\", ][testHamIdx, ])\n",
    "\n",
    "trainDF <-\n",
    "  rbind( emailDFrp[emailDFrp$isSpam == \"Spam\", ][-testSpamIdx, ], \n",
    "         emailDFrp[emailDFrp$isSpam == \"Valid\", ][-testHamIdx, ])"
   ]
  },
  {
   "cell_type": "markdown",
   "metadata": {},
   "source": [
    "## Fitting the `rpart()` Model to the email Data"
   ]
  },
  {
   "cell_type": "code",
   "execution_count": 30,
   "metadata": {},
   "outputs": [],
   "source": [
    "rpartFit = rpart(isSpam ~ ., data = trainDF, method = \"class\")"
   ]
  },
  {
   "cell_type": "markdown",
   "metadata": {},
   "source": [
    "Fitted tree is plotted with,"
   ]
  },
  {
   "cell_type": "code",
   "execution_count": 31,
   "metadata": {},
   "outputs": [],
   "source": [
    "library(rpart.plot)\n",
    "#prp(rpartFit, extra = 1)"
   ]
  },
  {
   "cell_type": "markdown",
   "metadata": {},
   "source": [
    "__Figure 1.__ Base Model Tree\n",
    "\n",
    "Let's look at some of the default `rpart` argument used in the Base Model, as described in `rpart.control` documentation [3]:\n",
    "\n",
    "* __minsplit:__ the minimum number of observations that must exist in a node in order for a split to be attempted (default = 20)\n",
    "\n",
    "* __cp:__ complexity parameter (ranges from 0 to 1). Any split that does not decrease the overall lack of fit by a factor of `cp` is not attempted. For instance, with `anova` splitting, this means that the overall R-squared must increase by `cp` at each step. The main role of this parameter is to save computing time by pruning off splits that are obviously not worthwhile. Essentially,the user informs the program that any split which does not improve the fit by `cp` will likely be pruned off by cross-validation, and that hence the program need not pursue it\n",
    "\n",
    "* __maxdepth:__ Set the maximum depth of any node of the final tree, with the root node counted as depth 0. Values greater than 30 rpart will give nonsense results on 32-bit machines (default = 30)"
   ]
  },
  {
   "cell_type": "code",
   "execution_count": 32,
   "metadata": {},
   "outputs": [
    {
     "data": {
      "text/html": [
       "<pre class=language-r><code>function (minsplit = 20L, minbucket = round(minsplit/3), cp = 0.01, \n",
       "<span style=white-space:pre-wrap>    maxcompete = 4L, maxsurrogate = 5L, usesurrogate = 2L, xval = 10L, </span>\n",
       "<span style=white-space:pre-wrap>    surrogatestyle = 0L, maxdepth = 30L, ...) </span>\n",
       "NULL</code></pre>"
      ],
      "text/latex": [
       "\\begin{minted}{r}\n",
       "function (minsplit = 20L, minbucket = round(minsplit/3), cp = 0.01, \n",
       "    maxcompete = 4L, maxsurrogate = 5L, usesurrogate = 2L, xval = 10L, \n",
       "    surrogatestyle = 0L, maxdepth = 30L, ...) \n",
       "NULL\n",
       "\\end{minted}"
      ],
      "text/markdown": [
       "```r\n",
       "function (minsplit = 20L, minbucket = round(minsplit/3), cp = 0.01, \n",
       "    maxcompete = 4L, maxsurrogate = 5L, usesurrogate = 2L, xval = 10L, \n",
       "    surrogatestyle = 0L, maxdepth = 30L, ...) \n",
       "NULL\n",
       "```"
      ],
      "text/plain": [
       "function (minsplit = 20L, minbucket = round(minsplit/3), cp = 0.01, \n",
       "    maxcompete = 4L, maxsurrogate = 5L, usesurrogate = 2L, xval = 10L, \n",
       "    surrogatestyle = 0L, maxdepth = 30L, ...) \n",
       "NULL"
      ]
     },
     "metadata": {},
     "output_type": "display_data"
    }
   ],
   "source": [
    "args(rpart.control)"
   ]
  },
  {
   "cell_type": "markdown",
   "metadata": {},
   "source": [
    "## Base Model Confusion Matrix\n",
    "\n",
    "`mlr` library is used in order to generate the confusion matrix,"
   ]
  },
  {
   "cell_type": "code",
   "execution_count": 33,
   "metadata": {},
   "outputs": [],
   "source": [
    "library(mlr)"
   ]
  },
  {
   "cell_type": "code",
   "execution_count": 34,
   "metadata": {},
   "outputs": [],
   "source": [
    "spam.tsk = makeClassifTask(id = \"spam\", \n",
    "                           data = trainDF, \n",
    "                           target = \"isSpam\")"
   ]
  },
  {
   "cell_type": "markdown",
   "metadata": {},
   "source": [
    "Learner"
   ]
  },
  {
   "cell_type": "code",
   "execution_count": 35,
   "metadata": {},
   "outputs": [],
   "source": [
    "spam.lrn = makeLearner(cl = \"classif.rpart\", id =\"spam\", fix.factors.prediction = TRUE, predict.type = 'prob')"
   ]
  },
  {
   "cell_type": "code",
   "execution_count": 36,
   "metadata": {},
   "outputs": [],
   "source": [
    "spam.clf <- mlr::train(spam.lrn, spam.tsk)\n",
    "splits <- getLearnerModel(spam.clf)"
   ]
  },
  {
   "cell_type": "markdown",
   "metadata": {},
   "source": [
    "Confusion Matrix with AUC, MMCE, FPR, and FNR:"
   ]
  },
  {
   "cell_type": "code",
   "execution_count": 37,
   "metadata": {},
   "outputs": [
    {
     "data": {
      "text/plain": [
       "        predicted\n",
       "true     Spam Valid -err.-\n",
       "  Spam    678   121    121\n",
       "  Valid   125  2192    125\n",
       "  -err.-  125   121    246"
      ]
     },
     "metadata": {},
     "output_type": "display_data"
    },
    {
     "data": {
      "text/html": [
       "<dl class=dl-horizontal>\n",
       "\t<dt>auc</dt>\n",
       "\t\t<dd>0.944180603397752</dd>\n",
       "\t<dt>mmce</dt>\n",
       "\t\t<dd>0.0789473684210526</dd>\n",
       "\t<dt>fpr</dt>\n",
       "\t\t<dd>0.0539490720759603</dd>\n",
       "\t<dt>fnr</dt>\n",
       "\t\t<dd>0.151439299123905</dd>\n",
       "</dl>\n"
      ],
      "text/latex": [
       "\\begin{description*}\n",
       "\\item[auc] 0.944180603397752\n",
       "\\item[mmce] 0.0789473684210526\n",
       "\\item[fpr] 0.0539490720759603\n",
       "\\item[fnr] 0.151439299123905\n",
       "\\end{description*}\n"
      ],
      "text/markdown": [
       "auc\n",
       ":   0.944180603397752mmce\n",
       ":   0.0789473684210526fpr\n",
       ":   0.0539490720759603fnr\n",
       ":   0.151439299123905\n",
       "\n"
      ],
      "text/plain": [
       "       auc       mmce        fpr        fnr \n",
       "0.94418060 0.07894737 0.05394907 0.15143930 "
      ]
     },
     "metadata": {},
     "output_type": "display_data"
    }
   ],
   "source": [
    "spam.preds <- predict(spam.clf, newdata =  testDF)\n",
    "\n",
    "preds <- as.data.frame(spam.preds$data)\n",
    "\n",
    "calculateConfusionMatrix(spam.preds)\n",
    "\n",
    "performance(spam.preds, measures=list(auc, mmce, fpr, fnr))"
   ]
  },
  {
   "cell_type": "markdown",
   "metadata": {},
   "source": [
    "# Results"
   ]
  },
  {
   "cell_type": "markdown",
   "metadata": {},
   "source": [
    "## Optimized Model\n",
    "\n",
    "The grid search method is used in conjunction with ten-fold stratified cross-validation in order to optimize the model. \n",
    "\n",
    "A false positive (i.e. valid email classified as spam) is more costly than a false negative."
   ]
  },
  {
   "cell_type": "markdown",
   "metadata": {},
   "source": [
    "## Parameter Search Criteria\n",
    "\n",
    "* __cp:__ 0.001, 0.01, 0.1, 0.2, 0.5,\n",
    "\n",
    "* __minsplit:__ 1, 5, 10, 15, 20, 30\n",
    "\n",
    "* __maxdepth:__ 1, 5, 10, 15, 20, 30\n",
    "\n",
    "* __splitting criterion:__ gini | information\n",
    "\n",
    "Resampling binary:"
   ]
  },
  {
   "cell_type": "code",
   "execution_count": 38,
   "metadata": {},
   "outputs": [],
   "source": [
    "spam.resamp = makeResampleDesc(method = \"CV\", \n",
    "                               iters = 10, \n",
    "                               stratify = TRUE)"
   ]
  },
  {
   "cell_type": "code",
   "execution_count": 39,
   "metadata": {},
   "outputs": [],
   "source": [
    "spam.resamp.bin = makeResampleInstance(spam.resamp, task=spam.tsk)\n",
    "save(spam.resamp.bin, file = \"resampling_binary\") # to improve performance later on"
   ]
  },
  {
   "cell_type": "code",
   "execution_count": 40,
   "metadata": {},
   "outputs": [],
   "source": [
    "load(\"resampling_binary\")"
   ]
  },
  {
   "cell_type": "code",
   "execution_count": 41,
   "metadata": {},
   "outputs": [],
   "source": [
    "spam.ps = makeParamSet(\n",
    "                  makeDiscreteParam(\"cp\", values = c(0.001, 0.01, 0.1, 0.2)),\n",
    "                  makeDiscreteParam(\"minsplit\", values = c(1, 5, 10, 15, 20, 30)),\n",
    "                  makeDiscreteParam(\"maxdepth\", values = c(1, 5, 10, 15, 20, 30)),\n",
    "                  makeDiscreteParam(\"parms\", values = list(gini = list(split = c(\"gini\")), \n",
    "                                                           info = list(split = c(\"information\"))))\n",
    "                 )"
   ]
  },
  {
   "cell_type": "markdown",
   "metadata": {},
   "source": [
    "Create the grid, run parallel multicore and optimize AUC"
   ]
  },
  {
   "cell_type": "code",
   "execution_count": 42,
   "metadata": {},
   "outputs": [
    {
     "name": "stderr",
     "output_type": "stream",
     "text": [
      "Starting parallelization in mode=multicore with cpus=4.\n",
      "[Tune] Started tuning learner spam for parameter set:\n",
      "             Type len Def             Constr Req Tunable Trafo\n",
      "cp       discrete   -   - 0.001,0.01,0.1,0.2   -    TRUE     -\n",
      "minsplit discrete   -   -    1,5,10,15,20,30   -    TRUE     -\n",
      "maxdepth discrete   -   -    1,5,10,15,20,30   -    TRUE     -\n",
      "parms    discrete   -   -          gini,info   -    TRUE     -\n",
      "With control class: TuneControlGrid\n",
      "Imputation value: -0Imputation value: 1Imputation value: 1Imputation value: 1\n",
      "Mapping in parallel: mode = multicore; cpus = 4; elements = 288.\n",
      "[Tune] Result: cp=0.001; minsplit=20; maxdepth=30; parms=info : auc.test.mean=0.9679128,fpr.test.mean=0.0384133,fnr.test.mean=0.1238954,mmce.test.mean=0.0603341\n",
      "Stopped parallelization. All cleaned up.\n"
     ]
    }
   ],
   "source": [
    "spam.ctrl = makeTuneControlGrid() \n",
    "\n",
    "parallelStart(mode = \"multicore\", cpus=4)\n",
    "\n",
    "spam.tuned.clf = tuneParams( learner=spam.lrn, \n",
    "                             task=spam.tsk, \n",
    "                             resampling=spam.resamp.bin,\n",
    "                             control=spam.ctrl, \n",
    "                             par.set=spam.ps, \n",
    "                             measures=list(auc, fpr, fnr, mmce))\n",
    "parallelStop()\n",
    "\n",
    "save(spam.tuned.clf, file = 'spam.tuned.clf') # save again for performance"
   ]
  },
  {
   "cell_type": "code",
   "execution_count": 43,
   "metadata": {},
   "outputs": [],
   "source": [
    "load('spam.tuned.clf')"
   ]
  },
  {
   "cell_type": "markdown",
   "metadata": {},
   "source": [
    "Get optimal hyper parameters and train the model on training set:"
   ]
  },
  {
   "cell_type": "code",
   "execution_count": 44,
   "metadata": {},
   "outputs": [],
   "source": [
    "data <- generateHyperParsEffectData(spam.tuned.clf, partial.dep = TRUE)\n",
    "\n",
    "df_models <- data$data\n",
    "\n",
    "spam.opt.lrn <- setHyperPars(spam.lrn, par.vals = spam.tuned.clf$x)\n",
    "\n",
    "spam.opt.clf <- mlr::train(spam.opt.lrn, spam.tsk)"
   ]
  },
  {
   "cell_type": "markdown",
   "metadata": {},
   "source": [
    "Each combination of parameters is cross-validated on 10 folds of the training data set using AUC as the performance metric. \n",
    "\n",
    "Let's plot the hyper parameter effects and their effect on AUC performance after cross-validation:"
   ]
  },
  {
   "cell_type": "code",
   "execution_count": 45,
   "metadata": {},
   "outputs": [
    {
     "data": {
      "image/png": "[encoded data removed]",
      "text/plain": [
       "plot without title"
      ]
     },
     "metadata": {},
     "output_type": "display_data"
    }
   ],
   "source": [
    "plotHyperParsEffect(data, x = \"iteration\", y = \"auc.test.mean\",\n",
    "  plot.type = \"line\", partial.dep.learn = \"regr.randomForest\")+\n",
    "  ggtitle(\"Figure 2: Optimization Path\")+\n",
    "  ylab(\"Mean AUC\")+\n",
    "  theme(legend.position = \"bottom\", \n",
    "        legend.text=element_text(size=8),\n",
    "        legend.title = element_text(size=10),\n",
    "        axis.text.x = element_text(angle=90, vjust=0.5),\n",
    "        text=element_text(size=14))"
   ]
  },
  {
   "cell_type": "markdown",
   "metadata": {},
   "source": [
    "Let's get the actual `rpart` model,"
   ]
  },
  {
   "cell_type": "code",
   "execution_count": 46,
   "metadata": {},
   "outputs": [],
   "source": [
    "splits <- getLearnerModel(spam.opt.clf)"
   ]
  },
  {
   "cell_type": "markdown",
   "metadata": {},
   "source": [
    "## Optimized Model Confusion Matrix"
   ]
  },
  {
   "cell_type": "markdown",
   "metadata": {},
   "source": [
    "By applying results of tuned model on test set, obtain the performance measures and compare them to the base model"
   ]
  },
  {
   "cell_type": "code",
   "execution_count": 47,
   "metadata": {},
   "outputs": [
    {
     "data": {
      "text/plain": [
       "\n",
       "\n",
       "|     | BaseModel| Optimized|\n",
       "|:----|---------:|---------:|\n",
       "|auc  |     0.944|     0.972|\n",
       "|mmce |     0.079|     0.053|\n",
       "|fpr  |     0.054|     0.032|\n",
       "|fnr  |     0.151|     0.116|"
      ]
     },
     "metadata": {},
     "output_type": "display_data"
    }
   ],
   "source": [
    "spam.opt.preds <- predict(spam.opt.clf, newdata = testDF)\n",
    "spam.preds <- predict(spam.clf, newdata =  testDF)\n",
    "\n",
    "opt <- performance(spam.opt.preds, \n",
    "            measures=list(auc, mmce, fpr, fnr))\n",
    "                \n",
    "base <- performance(spam.preds, \n",
    "            measures=list(auc, mmce, fpr, fnr))\n",
    "\n",
    "kable(cbind(BaseModel = round(base,3), Optimized = round(opt,3)))"
   ]
  },
  {
   "cell_type": "markdown",
   "metadata": {},
   "source": [
    "# Conclusion\n",
    "\n",
    "As seen on the table above, the Optimized Model outperforms the Base Model on ALL metrics. More importantly as stated earlier, a false positive is more costly than a false negative, and the improvement on the FPR for the optimized model is significant (3.2% vs. 5.4%).\n",
    "\n",
    "To complement the analysis, the ROC curves are plotted for both models,"
   ]
  },
  {
   "cell_type": "code",
   "execution_count": 48,
   "metadata": {},
   "outputs": [
    {
     "data": {
      "image/png": "[encoded data removed]",
      "text/plain": [
       "plot without title"
      ]
     },
     "metadata": {},
     "output_type": "display_data"
    }
   ],
   "source": [
    "df = generateThreshVsPerfData(list(base = spam.preds, \n",
    "                                   optimized = spam.opt.preds), \n",
    "                                   measures = list(fpr, tpr))\n",
    "\n",
    "qplot(x = fpr, y = tpr, color = learner, data = df$data, geom = \"path\")+\n",
    "  ggtitle(\"Figure 3: ROC Curves for Base and Optimized rpart Models\")+\n",
    "  theme(legend.position = \"right\", \n",
    "            legend.text=element_text(size=8),\n",
    "            legend.title = element_text(size=10),\n",
    "            axis.text.x = element_text(angle=90, vjust=0.5),\n",
    "            text=element_text(size=14))"
   ]
  },
  {
   "cell_type": "markdown",
   "metadata": {},
   "source": [
    "# References\n",
    "\n",
    "1. Nolan, D., and Temple Lang, D. (2015), *Data Science in R: A Case Studies Approach to Computational Reasoning and Problem Solving.* Boca Raton, FL: CRC Press (NTL)\n",
    "\n",
    "2. Package 'rpart', https://cran.r-project.org/web/packages/rpart/rpart.pdf\n",
    "\n",
    "3. https://www.rdocumentation.org/packages/rpart/versions/4.1-13/topics/rpart.control"
   ]
  },
  {
   "cell_type": "markdown",
   "metadata": {},
   "source": [
    "# Appendix\n",
    "\n",
    "## Additional Code"
   ]
  },
  {
   "cell_type": "code",
   "execution_count": 23,
   "metadata": {},
   "outputs": [
    {
     "name": "stderr",
     "output_type": "stream",
     "text": [
      "\n",
      "Attaching package: ‘dplyr’\n",
      "\n",
      "The following objects are masked from ‘package:plyr’:\n",
      "\n",
      "    arrange, count, desc, failwith, id, mutate, rename, summarise,\n",
      "    summarize\n",
      "\n",
      "The following objects are masked from ‘package:stats’:\n",
      "\n",
      "    filter, lag\n",
      "\n",
      "The following objects are masked from ‘package:base’:\n",
      "\n",
      "    intersect, setdiff, setequal, union\n",
      "\n",
      "\n",
      "Attaching package: ‘tidyr’\n",
      "\n",
      "The following object is masked from ‘package:reshape2’:\n",
      "\n",
      "    smiths\n",
      "\n",
      "The following object is masked from ‘package:magrittr’:\n",
      "\n",
      "    extract\n",
      "\n",
      "Loading required package: NLP\n",
      "\n",
      "Attaching package: ‘NLP’\n",
      "\n",
      "The following object is masked from ‘package:ggplot2’:\n",
      "\n",
      "    annotate\n",
      "\n",
      "Loading required package: lattice\n",
      "\n",
      "Attaching package: ‘caret’\n",
      "\n",
      "The following object is masked from ‘package:mlr’:\n",
      "\n",
      "    train\n",
      "\n",
      "Loading required package: foreach\n",
      "Loading required package: iterators\n",
      "Loading required package: parallel\n",
      "Loading required package: randomForest\n",
      "randomForest 4.6-14\n",
      "Type rfNews() to see new features/changes/bug fixes.\n",
      "\n",
      "Attaching package: ‘randomForest’\n",
      "\n",
      "The following object is masked from ‘package:ggplot2’:\n",
      "\n",
      "    margin\n",
      "\n",
      "The following object is masked from ‘package:dplyr’:\n",
      "\n",
      "    combine\n",
      "\n",
      "Loading required package: itertools\n",
      "\n",
      "Attaching package: ‘GGally’\n",
      "\n",
      "The following object is masked from ‘package:dplyr’:\n",
      "\n",
      "    nasa\n",
      "\n",
      "Loading required package: MASS\n",
      "\n",
      "Attaching package: ‘MASS’\n",
      "\n",
      "The following object is masked from ‘package:dplyr’:\n",
      "\n",
      "    select\n",
      "\n",
      "Loading required package: msm\n",
      "Loading required package: polycor\n"
     ]
    }
   ],
   "source": [
    "library(mmpf)\n",
    "library(magrittr)\n",
    "library(reshape2)\n",
    "library(plyr)\n",
    "library(dplyr)\n",
    "library(tidyr)\n",
    "library(ggplot2)\n",
    "library(tm)\n",
    "library(rpart)\n",
    "library(caret)\n",
    "library(mlr)\n",
    "library(parallelMap)\n",
    "library(doParallel)\n",
    "library(missForest)\n",
    "library(scales)\n",
    "library(ggthemes)\n",
    "library(GGally)\n",
    "library(ltm)\n",
    "library(rpart.plot)\n",
    "library(knitr)"
   ]
  },
  {
   "cell_type": "code",
   "execution_count": null,
   "metadata": {},
   "outputs": [],
   "source": [
    "complexityVals = c(seq(0.00001, 0.0001, length=19),\n",
    "                   seq(0.0001, 0.001, length=19),\n",
    "                   seq(0.001, 0.005, length=9),\n",
    "                   seq(0.005, 0.01, length=9))"
   ]
  },
  {
   "cell_type": "code",
   "execution_count": null,
   "metadata": {},
   "outputs": [],
   "source": [
    "fits = lapply(complexityVals, function(x) {\n",
    "         rpartObj = rpart(isSpam ~ ., data = trainDF,\n",
    "                          method=\"class\",\n",
    "                          control = rpart.control(cp=x) )\n",
    "         predict(rpartObj,\n",
    "                 newdata = testDF[ , names(testDF) != \"isSpam\"],\n",
    "                 type = \"class\")\n",
    "})"
   ]
  },
  {
   "cell_type": "code",
   "execution_count": null,
   "metadata": {},
   "outputs": [],
   "source": [
    "spam = testDF$isSpam == \"T\"\n",
    "numSpam = sum(spam)\n",
    "numHam = sum(!spam)\n",
    "errs = sapply(fits, function(preds) {\n",
    "                      typeI = sum(preds[ !spam ] == \"T\") / numHam\n",
    "                      typeII = sum(preds[ spam ] == \"F\") / numSpam\n",
    "                      c(typeI = typeI, typeII = typeII)\n",
    "})"
   ]
  }
 ],
 "metadata": {
  "anaconda-cloud": {},
  "kernelspec": {
   "display_name": "R",
   "language": "R",
   "name": "ir"
  },
  "language_info": {
   "codemirror_mode": "r",
   "file_extension": ".r",
   "mimetype": "text/x-r-source",
   "name": "R",
   "pygments_lexer": "r",
   "version": "3.5.2"
  }
 },
 "nbformat": 4,
 "nbformat_minor": 2
}
